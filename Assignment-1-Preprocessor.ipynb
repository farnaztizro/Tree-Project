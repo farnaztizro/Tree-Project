{
 "cells": [
  {
   "cell_type": "code",
   "execution_count": 1,
   "id": "3a32840b-f217-49cc-9567-5a31e02fe14f",
   "metadata": {},
   "outputs": [],
   "source": [
    "import pandas as pd\n",
    "import numpy as np\n",
    "import glob\n",
    "import json"
   ]
  },
  {
   "cell_type": "code",
   "execution_count": 2,
   "id": "e36048dd-2584-4381-9120-d791c2f85f36",
   "metadata": {},
   "outputs": [],
   "source": [
    "#Step-1: Get filenames from the directory for setting up the dropdown.\n",
    "\n",
    "FullFilenames = (glob.glob(\"Dataset/*.csv\"))\n",
    "OnlyFilenames = []\n",
    "for i in FullFilenames:\n",
    "    SplitOnUnderscores = i.split('_')\n",
    "    SplitOnSlash = SplitOnUnderscores[0].split('\\\\')\n",
    "    filename = SplitOnSlash[1]\n",
    "    OnlyFilenames.append(filename)"
   ]
  },
  {
   "cell_type": "code",
   "execution_count": 5,
   "id": "c6520776-e031-4163-aba0-61e645e741f4",
   "metadata": {},
   "outputs": [],
   "source": [
    "#Step-2 define a processor for a file.\n",
    "# We will be removing those trees from dataset whose count is less than or equal to 1.\n",
    "def processFile(city):\n",
    "    Filename = (glob.glob(\"Dataset/\" + city + \"*.csv\"))\n",
    "    data = pd.read_csv(Filename[0], usecols=IntrestingColumns) #use nrows paramter to limit the data if it consumes too much time to process\n",
    "    data.dropna(how='any', inplace=True)\n",
    "    if(not(data.empty)):\n",
    "        # Create a list of dictionaries for each tree species in the city\n",
    "        city_tree_data = []\n",
    "        \n",
    "        # Group data by scientific_name and get the count\n",
    "        tree_counts = data['scientific_name'].value_counts().to_dict()\n",
    "        \n",
    "        # Extract city and state information\n",
    "        city_info = data.iloc[0][['city', 'state']].to_dict()\n",
    "    \n",
    "        for scientific_name, count in tree_counts.items():\n",
    "            common_names = data[data['scientific_name'] == scientific_name]['common_name'].unique().tolist()\n",
    "            if(not(count <=1)):\n",
    "                city_tree_data.append({\n",
    "                    'scientific_name': scientific_name,\n",
    "                    'common_name': common_names,\n",
    "                    'count': count,\n",
    "                    'state': city_info['state']\n",
    "                })\n",
    "    \n",
    "        # Store the city-specific tree data in the dictionary\n",
    "        return city_tree_data"
   ]
  },
  {
   "cell_type": "code",
   "execution_count": 6,
   "id": "d7c0b6d5-9930-4e75-8235-06d69425aa3b",
   "metadata": {},
   "outputs": [],
   "source": [
    "'''\n",
    "Step-3: Clean the dataset of given cities and save them as unified json data with trees count grouped by city. Create the dropdown for cities for \n",
    "which we have data for.\n",
    "'''\n",
    "# For the sake of data integrity, We will be dropping the rows which have null values\n",
    "# Set the city names you wish to get data for or for all cities insert \"All\"\n",
    "City = ['All'] \n",
    "\n",
    "# insert the names of columns you wish to extract Intresting columns are \n",
    "# the ones for which we will visualise the data. If all rows of any intresting columns have null values we will drop the data file.\n",
    "\n",
    "IntrestingColumns = ['common_name','scientific_name','city','state'] \n",
    "\n",
    "tree_data_by_city = {}\n",
    "if(len(City)==1 and City[0] == 'All'):\n",
    "    for city in OnlyFilenames:\n",
    "        processedData =  processFile(city)\n",
    "        if(processedData is not None):\n",
    "            tree_data_by_city[city] = processedData\n",
    "        else:\n",
    "            OnlyFilenames.remove(city)\n",
    "    \n",
    "else:\n",
    "    for city in City:\n",
    "        processedData =  processFile(city)\n",
    "        if(processedData is not None):\n",
    "            tree_data_by_city[city] = processedData\n",
    "        else:\n",
    "            OnlyFilenames.remove(city)\n",
    "        \n",
    "tree_data_json = json.dumps(tree_data_by_city)\n",
    "\n",
    "with open(\"tree_data.json\", \"w\") as f:\n",
    "    f.write(tree_data_json)\n",
    "    \n",
    "#Step-2: Create JSON for city dropdown using extracted filenames\n",
    "cities= json.dumps({\"cities\": OnlyFilenames})\n",
    "f = open(\"city_dropdown.json\", \"w\")\n",
    "f.write(cities)\n",
    "f.close()"
   ]
  },
  {
   "cell_type": "code",
   "execution_count": null,
   "id": "d26b1a24-6aad-4082-a885-a3a3edde453a",
   "metadata": {},
   "outputs": [],
   "source": []
  }
 ],
 "metadata": {
  "kernelspec": {
   "display_name": "Python 3 (ipykernel)",
   "language": "python",
   "name": "python3"
  },
  "language_info": {
   "codemirror_mode": {
    "name": "ipython",
    "version": 3
   },
   "file_extension": ".py",
   "mimetype": "text/x-python",
   "name": "python",
   "nbconvert_exporter": "python",
   "pygments_lexer": "ipython3",
   "version": "3.10.8"
  }
 },
 "nbformat": 4,
 "nbformat_minor": 5
}
